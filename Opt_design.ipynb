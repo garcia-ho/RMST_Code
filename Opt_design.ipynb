{
 "cells": [
  {
   "cell_type": "code",
   "execution_count": 19,
   "metadata": {
    "vscode": {
     "languageId": "r"
    }
   },
   "outputs": [],
   "source": [
    "packages <- c(\"survRM2\", \"mvtnorm\", \"ggplot2\", \"MASS\", \"tidyr\", \"survival\", \"nph\",\n",
    "              \"foreach\", \"doParallel\", \"cowplot\", \"IRdisplay\", \"rlang\",\"tidyverse\")\n",
    "\n",
    "install_and_load <- function(package) {\n",
    "  if (!require(package, character.only = TRUE)) {\n",
    "    install.packages(package)\n",
    "    library(package, character.only = TRUE)\n",
    "  }\n",
    "}\n",
    "\n",
    "invisible(lapply(packages, install_and_load))\n",
    "\n",
    "n_cores <- detectCores()\n",
    "cluster <- makeCluster(16)  \n",
    "registerDoParallel(cluster)\n",
    "# multi thread\n",
    "invisible(clusterEvalQ(cluster, #import packages to parallel \n",
    "  {\n",
    "  library('survRM2')\n",
    "  library('mvtnorm')\n",
    "  library('cubature')\n",
    "  library('survival')\n",
    "  library('nph')\n",
    "  library(\"simtrial\")\n",
    "  library(\"foreach\")\n",
    "  }))\n",
    "\n",
    "source('Rfiles/3m_comparison.R')\n",
    "source('Rfiles/Function.R')\n",
    "clusterExport(cluster, \"expo_gen_2stages\")"
   ]
  },
  {
   "cell_type": "markdown",
   "metadata": {},
   "source": [
    "# Optimal Design (minimize E(N))\n",
    "\n",
    "#### Our method need a given overall sample size N for parameter searching. So we only discuss the optimal design that minimize the expected sample size.\n",
    "```math\n",
    " \\bar{PET} = (PET0\\ +\\ PET1)\\ /\\ 2  \\\\\n",
    "E_N(n) = \\bar{PET} * n + (1\\ -\\ \\bar{PET}) * N\n",
    "```\n",
    "#### n is the interim sample size of two groups\n",
    "#### We would like to find a proper n to min(E(N)) under a given ($\\alpha$, power and N)"
   ]
  },
  {
   "cell_type": "code",
   "execution_count": 7,
   "metadata": {
    "vscode": {
     "languageId": "r"
    }
   },
   "outputs": [],
   "source": [
    "set.seed(2024)\n",
    "sim_size <- 5000\n",
    "N <- 200\n",
    "n <- ceiling( N / 2 )  # total sample size per arm\n",
    "r <- 90\n",
    "acc_time <- N / r\n",
    "cen_time <- 1\n",
    "lambda_H0 <- 1.2\n",
    "lambda_H1 <- 0.83\n",
    "alpha <- 0.05\n",
    "power <- 0.8\n",
    "\n",
    "# give a set of optional interim periods\n",
    "int_time <- seq(0.5, 0.8, by = 6 / N)  # Each time interim sample size increase by 6\n",
    "interim_list <- int_time * N / r\n",
    "\n",
    "data_C <- expo_gen_2stages(N = n * sim_size, acc_time = acc_time, lambda = lambda_H0, dist = 'exp', \n",
    "                            cen_time = cen_time, arm = 0, interim = interim)    \n",
    "data_E_H0 <- expo_gen_2stages(N = n * sim_size, acc_time = acc_time, lambda = lambda_H0, dist = 'exp', \n",
    "                            cen_time = cen_time, arm = 1, interim = interim) \n",
    "data_E_H1 <- expo_gen_2stages(N = n * sim_size, acc_time = acc_time, lambda = lambda_H1, dist = 'exp', \n",
    "                            cen_time = cen_time, arm = 1, interim = interim)\n",
    "\n",
    "for (i in 1 : length(interim_list))\n",
    "{  \n",
    "    interim <- interim_list[i]\n",
    "    rmst_h0_int <- RMST_sim_cal(n = n,data_E = data_E_H0[ , c(2,3,1), i], \n",
    "                                data_C = data_C[ , c(2,3,1), i],tau = interim, sim_size = sim_size)\n",
    "    rmst_h1_int <- RMST_sim_cal(n = n,data_E = data_E_H1[ , c(2,3,1), i], \n",
    "                                data_C = data_C[ , c(2,3,1), i],tau = interim, sim_size = sim_size)\n",
    "    rmst_h0_fin <- RMST_sim_cal(n = n,data_E = data_E_H0[ , c(4,5,1), i], \n",
    "                                data_C = data_C[ , c(4,5,1), i],tau = acc_time + cen_time,sim_size = sim_size)\n",
    "    rmst_h1_fin <- RMST_sim_cal(n = n,data_E = data_E_H1[ , c(4,5,1), i], \n",
    "                                data_C = data_C[ , c(4,5,1), i],tau = acc_time + cen_time,sim_size = sim_size)\n",
    "    rmst_data <- rbind(rmst_h0_int, rmst_h1_int, rmst_h0_fin, rmst_h1_fin)\n",
    "\n",
    "    mu_cov_h0 <- mu_cov_mc(rmst_int = rmst_h0_int, rmst_fin = rmst_h0_fin, sim_size = sim_size)\n",
    "    mu_cov_h1 <- mu_cov_mc(rmst_int = rmst_h1_int, rmst_fin = rmst_h1_fin, sim_size = sim_size)\n",
    "\n",
    "    best_our <- adp_grid_src(rmst_data = rmst_data, mu_cov_h0 = mu_cov_h0, mu_cov_h1 = mu_cov_h1, \n",
    "                int_n = interim * r, fin_n = 2 * n, alpha = alpha, sim_size = sim_size, type = 'Complex')\n",
    "\n",
    "\n",
    "}\n"
   ]
  },
  {
   "cell_type": "code",
   "execution_count": 21,
   "metadata": {
    "vscode": {
     "languageId": "r"
    }
   },
   "outputs": [
    {
     "ename": "ERROR",
     "evalue": "Error in `[<-`(`*tmp*`, 11, , value = PET * int_n + (1 - PET) * fin_n): subscript out of bounds\n",
     "output_type": "error",
     "traceback": [
      "Error in `[<-`(`*tmp*`, 11, , value = PET * int_n + (1 - PET) * fin_n): subscript out of bounds\nTraceback:\n"
     ]
    }
   ],
   "source": [
    "set.seed(2024)\n",
    "sim_size <- 5000\n",
    "N <- 200\n",
    "n <- ceiling( N / 2 )  # total sample size per arm\n",
    "r <- 90\n",
    "acc_time <- N / r\n",
    "cen_time <- 1\n",
    "lambda_H0 <- 1.2\n",
    "lambda_H1 <- 0.83\n",
    "alpha <- 0.05\n",
    "power <- 0.8\n",
    "\n",
    "interim <- 130 / r\n",
    "data_C <- expo_gen_2stages(N = n * sim_size, acc_time = acc_time, lambda = lambda_H0, dist = 'exp', \n",
    "                            cen_time = cen_time, arm = 0, interim = interim)    \n",
    "data_E_H0 <- expo_gen_2stages(N = n * sim_size, acc_time = acc_time, lambda = lambda_H0, dist = 'exp', \n",
    "                            cen_time = cen_time, arm = 1, interim = interim) \n",
    "data_E_H1 <- expo_gen_2stages(N = n * sim_size, acc_time = acc_time, lambda = lambda_H1, dist = 'exp', \n",
    "                            cen_time = cen_time, arm = 1, interim = interim)\n",
    "rmst_h0_int <- RMST_sim_cal(n = n,data_E = data_E_H0[ , c(2,3,1)], \n",
    "                                data_C = data_C[ , c(2,3,1)],tau = interim, sim_size = sim_size)\n",
    "rmst_h1_int <- RMST_sim_cal(n = n,data_E = data_E_H1[ , c(2,3,1)], \n",
    "                                data_C = data_C[ , c(2,3,1)],tau = interim, sim_size = sim_size)\n",
    "rmst_h0_fin <- RMST_sim_cal(n = n,data_E = data_E_H0[ , c(4,5,1)], \n",
    "                                data_C = data_C[ , c(4,5,1)],tau = acc_time + cen_time,sim_size = sim_size)\n",
    "rmst_h1_fin <- RMST_sim_cal(n = n,data_E = data_E_H1[ , c(4,5,1)], \n",
    "                                data_C = data_C[ , c(4,5,1)],tau = acc_time + cen_time,sim_size = sim_size)\n",
    "rmst_data <- rbind(rmst_h0_int, rmst_h1_int, rmst_h0_fin, rmst_h1_fin)\n",
    "\n",
    "mu_cov_h0 <- mu_cov_mc(rmst_int = rmst_h0_int, rmst_fin = rmst_h0_fin, sim_size = sim_size)\n",
    "    mu_cov_h1 <- mu_cov_mc(rmst_int = rmst_h1_int, rmst_fin = rmst_h1_fin, sim_size = sim_size)\n",
    "\n",
    "    best_our <- adp_grid_src(rmst_data = rmst_data, mu_cov_h0 = mu_cov_h0, mu_cov_h1 = mu_cov_h1, \n",
    "                int_n = interim * r, fin_n = 2 * n,  sim_size = sim_size, type = 'Complex',\n",
    "                alpha = alpha, power = power)"
   ]
  },
  {
   "cell_type": "code",
   "execution_count": 24,
   "metadata": {
    "vscode": {
     "languageId": "r"
    }
   },
   "outputs": [
    {
     "data": {
      "text/html": [
       "<style>\n",
       ".list-inline {list-style: none; margin:0; padding: 0}\n",
       ".list-inline>li {display: inline-block}\n",
       ".list-inline>li:not(:last-child)::after {content: \"\\00b7\"; padding: 0 .5ex}\n",
       "</style>\n",
       "<ol class=list-inline><li>3.5</li><li>11.5</li><li>19.5</li><li>27.5</li><li>35.5</li><li>43.5</li><li>51.5</li></ol>\n"
      ],
      "text/latex": [
       "\\begin{enumerate*}\n",
       "\\item 3.5\n",
       "\\item 11.5\n",
       "\\item 19.5\n",
       "\\item 27.5\n",
       "\\item 35.5\n",
       "\\item 43.5\n",
       "\\item 51.5\n",
       "\\end{enumerate*}\n"
      ],
      "text/markdown": [
       "1. 3.5\n",
       "2. 11.5\n",
       "3. 19.5\n",
       "4. 27.5\n",
       "5. 35.5\n",
       "6. 43.5\n",
       "7. 51.5\n",
       "\n",
       "\n"
      ],
      "text/plain": [
       "[1]  3.5 11.5 19.5 27.5 35.5 43.5 51.5"
      ]
     },
     "metadata": {},
     "output_type": "display_data"
    }
   ],
   "source": [
    "data <- 1:(8*7)  # This creates a vector of numbers from 1 to 56\n",
    "\n",
    "# Create an 8x7 matrix\n",
    "matrix_8x7 <- matrix(data, nrow = 8, ncol = 7)\n",
    "(matrix_8x7[3, ] + matrix_8x7[4, ]) / 2"
   ]
  },
  {
   "cell_type": "code",
   "execution_count": null,
   "metadata": {
    "vscode": {
     "languageId": "r"
    }
   },
   "outputs": [],
   "source": []
  }
 ],
 "metadata": {
  "kernelspec": {
   "display_name": "R",
   "language": "R",
   "name": "ir"
  },
  "language_info": {
   "codemirror_mode": "r",
   "file_extension": ".r",
   "mimetype": "text/x-r-source",
   "name": "R",
   "pygments_lexer": "r",
   "version": "4.4.1"
  }
 },
 "nbformat": 4,
 "nbformat_minor": 2
}
