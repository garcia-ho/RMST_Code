{
 "cells": [
  {
   "cell_type": "code",
   "execution_count": 36,
   "metadata": {
    "vscode": {
     "languageId": "r"
    }
   },
   "outputs": [],
   "source": [
    "packages <- c(\"survRM2\", \"mvtnorm\", \"ggplot2\", \"MASS\", \"tidyr\", \"survival\", \"nph\",\n",
    "              \"foreach\", \"doParallel\", \"cowplot\", \"IRdisplay\", \"rlang\",\"tidyverse\")\n",
    "\n",
    "install_and_load <- function(package) {\n",
    "  if (!require(package, character.only = TRUE)) {\n",
    "    install.packages(package)\n",
    "    library(package, character.only = TRUE)\n",
    "  }\n",
    "}\n",
    "\n",
    "invisible(lapply(packages, install_and_load))\n",
    "\n",
    "n_cores <- detectCores()\n",
    "cluster <- makeCluster(16)  \n",
    "registerDoParallel(cluster)\n",
    "# multi thread\n",
    "invisible(clusterEvalQ(cluster, #import packages to parallel \n",
    "  {\n",
    "  library('survRM2')\n",
    "  library('mvtnorm')\n",
    "  library('cubature')\n",
    "  library('survival')\n",
    "  library('nph')\n",
    "  library(\"simtrial\")\n",
    "  library(\"foreach\")\n",
    "  }))\n",
    "\n",
    "source('Rfiles/3m_comparison.R')\n",
    "source('Rfiles/Function.R')\n",
    "clusterExport(cluster, \"expo_gen_2stages\")"
   ]
  },
  {
   "cell_type": "markdown",
   "metadata": {},
   "source": [
    "# Optimal Design (minimize E(N))\n",
    "\n",
    "#### Our method need a given overall sample size N for parameter searching. So we only discuss the optimal design that minimize the expected sample size.\n",
    "```math\n",
    " \\bar{PET} = (PET0\\ +\\ PET1)\\ /\\ 2  \\\\\n",
    "E_N(n) = \\bar{PET} * n + (1\\ -\\ \\bar{PET}) * N\n",
    "```\n",
    "#### n is the interim sample size of two groups\n",
    "#### We would like to find a proper n to min(E(N)) under a given ($\\alpha$, power and N)"
   ]
  },
  {
   "cell_type": "code",
   "execution_count": 37,
   "metadata": {
    "vscode": {
     "languageId": "r"
    }
   },
   "outputs": [],
   "source": [
    "set.seed(2024)\n",
    "sim_size <- 5000\n",
    "N <- 200\n",
    "n <- ceiling( N / 2 )  # total sample size per arm\n",
    "r <- 90\n",
    "acc_time <- N / r\n",
    "cen_time <- 1\n",
    "lambda_H0 <- 1.2\n",
    "lambda_H1 <- 0.83\n",
    "alpha <- 0.05\n",
    "power <- 0.8\n",
    "\n",
    "# give a set of optional interim periods\n",
    "int_time <- seq(0.5, 0.8, by = 4 / N)  # Each time interim sample size increase by 6\n",
    "interim_list <- int_time * N / r\n",
    "\n",
    "data_C <- expo_gen_2stages(N = n * sim_size, acc_time = acc_time, lambda = lambda_H0, dist = 'exp', \n",
    "                            cen_time = cen_time, arm = 0, interim = interim_list)    \n",
    "data_E_H0 <- expo_gen_2stages(N = n * sim_size, acc_time = acc_time, lambda = lambda_H0, dist = 'exp', \n",
    "                            cen_time = cen_time, arm = 1, interim = interim_list) \n",
    "data_E_H1 <- expo_gen_2stages(N = n * sim_size, acc_time = acc_time, lambda = lambda_H1, dist = 'exp', \n",
    "                            cen_time = cen_time, arm = 1, interim = interim_list)\n",
    "\n",
    "all_result <- data.frame()\n",
    "for (i in 1 : length(interim_list))\n",
    "{  \n",
    "    interim <- interim_list[i]\n",
    "    rmst_h0_int <- RMST_sim_cal(n = n,data_E = data_E_H0[ , c(2,3,1), i], \n",
    "                                data_C = data_C[ , c(2,3,1), i],tau = interim, sim_size = sim_size)\n",
    "    rmst_h1_int <- RMST_sim_cal(n = n,data_E = data_E_H1[ , c(2,3,1), i], \n",
    "                                data_C = data_C[ , c(2,3,1), i],tau = interim, sim_size = sim_size)\n",
    "    rmst_h0_fin <- RMST_sim_cal(n = n,data_E = data_E_H0[ , c(4,5,1), i], \n",
    "                                data_C = data_C[ , c(4,5,1), i],tau = acc_time + cen_time,sim_size = sim_size)\n",
    "    rmst_h1_fin <- RMST_sim_cal(n = n,data_E = data_E_H1[ , c(4,5,1), i], \n",
    "                                data_C = data_C[ , c(4,5,1), i],tau = acc_time + cen_time,sim_size = sim_size)\n",
    "    rmst_data <- rbind(rmst_h0_int, rmst_h1_int, rmst_h0_fin, rmst_h1_fin)\n",
    "\n",
    "    mu_cov_h0 <- mu_cov_mc(rmst_int = rmst_h0_int, rmst_fin = rmst_h0_fin, sim_size = sim_size)\n",
    "    mu_cov_h1 <- mu_cov_mc(rmst_int = rmst_h1_int, rmst_fin = rmst_h1_fin, sim_size = sim_size)\n",
    "\n",
    "    best_our <- adp_grid_src(rmst_data = rmst_data, mu_cov_h0 = mu_cov_h0, mu_cov_h1 = mu_cov_h1, \n",
    "                int_n = interim * r, fin_n = 2 * n, sim_size = sim_size, type = 'Complex',\n",
    "                alpha = alpha, power = power)\n",
    "    best_our$interim_n <- interim * r\n",
    "\n",
    "    all_result <- rbind(all_result, best_our)\n",
    "}\n"
   ]
  },
  {
   "cell_type": "code",
   "execution_count": 38,
   "metadata": {
    "vscode": {
     "languageId": "r"
    }
   },
   "outputs": [
    {
     "data": {
      "text/html": [
       "<table class=\"dataframe\">\n",
       "<caption>A data.frame: 16 × 12</caption>\n",
       "<thead>\n",
       "\t<tr><th scope=col>m1</th><th scope=col>t1</th><th scope=col>m2</th><th scope=col>t2</th><th scope=col>lambda</th><th scope=col>gamma</th><th scope=col>PET0</th><th scope=col>PET1</th><th scope=col>alpha</th><th scope=col>power</th><th scope=col>EN</th><th scope=col>interim_n</th></tr>\n",
       "\t<tr><th scope=col>&lt;dbl&gt;</th><th scope=col>&lt;dbl&gt;</th><th scope=col>&lt;dbl&gt;</th><th scope=col>&lt;dbl&gt;</th><th scope=col>&lt;dbl&gt;</th><th scope=col>&lt;dbl&gt;</th><th scope=col>&lt;dbl&gt;</th><th scope=col>&lt;dbl&gt;</th><th scope=col>&lt;dbl&gt;</th><th scope=col>&lt;dbl&gt;</th><th scope=col>&lt;dbl&gt;</th><th scope=col>&lt;dbl&gt;</th></tr>\n",
       "</thead>\n",
       "<tbody>\n",
       "\t<tr><td>0.000000e+00</td><td>0.0000000</td><td>0.0000000</td><td>0.0000000</td><td>0.00</td><td>0.00</td><td>0.0000</td><td>0.0000</td><td>0.0000</td><td>0.0000</td><td>      NA</td><td>100</td></tr>\n",
       "\t<tr><td>0.000000e+00</td><td>0.0000000</td><td>0.0000000</td><td>0.0000000</td><td>0.00</td><td>0.00</td><td>0.0000</td><td>0.0000</td><td>0.0000</td><td>0.0000</td><td>      NA</td><td>104</td></tr>\n",
       "\t<tr><td>0.000000e+00</td><td>0.0000000</td><td>0.0000000</td><td>0.0000000</td><td>0.00</td><td>0.00</td><td>0.0000</td><td>0.0000</td><td>0.0000</td><td>0.0000</td><td>      NA</td><td>108</td></tr>\n",
       "\t<tr><td>0.000000e+00</td><td>0.0000000</td><td>0.0000000</td><td>0.0000000</td><td>0.00</td><td>0.00</td><td>0.0000</td><td>0.0000</td><td>0.0000</td><td>0.0000</td><td>      NA</td><td>112</td></tr>\n",
       "\t<tr><td>0.000000e+00</td><td>0.0000000</td><td>0.0000000</td><td>0.0000000</td><td>0.00</td><td>0.00</td><td>0.0000</td><td>0.0000</td><td>0.0000</td><td>0.0000</td><td>      NA</td><td>116</td></tr>\n",
       "\t<tr><td>0.000000e+00</td><td>0.0000000</td><td>0.0000000</td><td>0.0000000</td><td>0.00</td><td>0.00</td><td>0.0000</td><td>0.0000</td><td>0.0000</td><td>0.0000</td><td>      NA</td><td>120</td></tr>\n",
       "\t<tr><td>0.000000e+00</td><td>0.0000000</td><td>0.0000000</td><td>0.0000000</td><td>0.00</td><td>0.00</td><td>0.0000</td><td>0.0000</td><td>0.0000</td><td>0.0000</td><td>      NA</td><td>124</td></tr>\n",
       "\t<tr><td>1.791735e-03</td><td>0.6493946</td><td>0.1515372</td><td>0.9196343</td><td>0.99</td><td>0.16</td><td>0.6330</td><td>0.0900</td><td>0.0250</td><td>0.8030</td><td>173.9720</td><td>128</td></tr>\n",
       "\t<tr><td>7.138312e-03</td><td>0.6602750</td><td>0.1510168</td><td>0.9184726</td><td>0.99</td><td>0.16</td><td>0.6582</td><td>0.0974</td><td>0.0250</td><td>0.8006</td><td>174.3096</td><td>132</td></tr>\n",
       "\t<tr><td>4.753379e-05</td><td>0.6938158</td><td>0.1358946</td><td>0.9436417</td><td>0.97</td><td>0.13</td><td>0.7276</td><td>0.1008</td><td>0.0174</td><td>0.8038</td><td>173.4912</td><td>136</td></tr>\n",
       "\t<tr><td>6.010270e-03</td><td>0.7039221</td><td>0.1354843</td><td>0.9424240</td><td>0.97</td><td>0.13</td><td>0.7512</td><td>0.1078</td><td>0.0174</td><td>0.8024</td><td>174.2300</td><td>140</td></tr>\n",
       "\t<tr><td>1.245986e-03</td><td>0.7179619</td><td>0.1236541</td><td>0.9466444</td><td>0.96</td><td>0.11</td><td>0.7690</td><td>0.1078</td><td>0.0166</td><td>0.8060</td><td>175.4496</td><td>144</td></tr>\n",
       "\t<tr><td>4.946365e-04</td><td>0.7318266</td><td>0.1168777</td><td>0.9510122</td><td>0.95</td><td>0.10</td><td>0.7982</td><td>0.1114</td><td>0.0156</td><td>0.8036</td><td>176.3504</td><td>148</td></tr>\n",
       "\t<tr><td>5.048826e-03</td><td>0.7394786</td><td>0.1163535</td><td>0.9493956</td><td>0.95</td><td>0.10</td><td>0.8120</td><td>0.1162</td><td>0.0152</td><td>0.8028</td><td>177.7232</td><td>152</td></tr>\n",
       "\t<tr><td>4.048328e-03</td><td>0.7459982</td><td>0.1089330</td><td>0.9455595</td><td>0.95</td><td>0.09</td><td>0.8178</td><td>0.1148</td><td>0.0166</td><td>0.8096</td><td>179.4828</td><td>156</td></tr>\n",
       "\t<tr><td>2.262666e-03</td><td>0.7578870</td><td>0.1010609</td><td>0.9486134</td><td>0.94</td><td>0.08</td><td>0.8390</td><td>0.1148</td><td>0.0148</td><td>0.8098</td><td>180.9240</td><td>160</td></tr>\n",
       "</tbody>\n",
       "</table>\n"
      ],
      "text/latex": [
       "A data.frame: 16 × 12\n",
       "\\begin{tabular}{llllllllllll}\n",
       " m1 & t1 & m2 & t2 & lambda & gamma & PET0 & PET1 & alpha & power & EN & interim\\_n\\\\\n",
       " <dbl> & <dbl> & <dbl> & <dbl> & <dbl> & <dbl> & <dbl> & <dbl> & <dbl> & <dbl> & <dbl> & <dbl>\\\\\n",
       "\\hline\n",
       "\t 0.000000e+00 & 0.0000000 & 0.0000000 & 0.0000000 & 0.00 & 0.00 & 0.0000 & 0.0000 & 0.0000 & 0.0000 &       NA & 100\\\\\n",
       "\t 0.000000e+00 & 0.0000000 & 0.0000000 & 0.0000000 & 0.00 & 0.00 & 0.0000 & 0.0000 & 0.0000 & 0.0000 &       NA & 104\\\\\n",
       "\t 0.000000e+00 & 0.0000000 & 0.0000000 & 0.0000000 & 0.00 & 0.00 & 0.0000 & 0.0000 & 0.0000 & 0.0000 &       NA & 108\\\\\n",
       "\t 0.000000e+00 & 0.0000000 & 0.0000000 & 0.0000000 & 0.00 & 0.00 & 0.0000 & 0.0000 & 0.0000 & 0.0000 &       NA & 112\\\\\n",
       "\t 0.000000e+00 & 0.0000000 & 0.0000000 & 0.0000000 & 0.00 & 0.00 & 0.0000 & 0.0000 & 0.0000 & 0.0000 &       NA & 116\\\\\n",
       "\t 0.000000e+00 & 0.0000000 & 0.0000000 & 0.0000000 & 0.00 & 0.00 & 0.0000 & 0.0000 & 0.0000 & 0.0000 &       NA & 120\\\\\n",
       "\t 0.000000e+00 & 0.0000000 & 0.0000000 & 0.0000000 & 0.00 & 0.00 & 0.0000 & 0.0000 & 0.0000 & 0.0000 &       NA & 124\\\\\n",
       "\t 1.791735e-03 & 0.6493946 & 0.1515372 & 0.9196343 & 0.99 & 0.16 & 0.6330 & 0.0900 & 0.0250 & 0.8030 & 173.9720 & 128\\\\\n",
       "\t 7.138312e-03 & 0.6602750 & 0.1510168 & 0.9184726 & 0.99 & 0.16 & 0.6582 & 0.0974 & 0.0250 & 0.8006 & 174.3096 & 132\\\\\n",
       "\t 4.753379e-05 & 0.6938158 & 0.1358946 & 0.9436417 & 0.97 & 0.13 & 0.7276 & 0.1008 & 0.0174 & 0.8038 & 173.4912 & 136\\\\\n",
       "\t 6.010270e-03 & 0.7039221 & 0.1354843 & 0.9424240 & 0.97 & 0.13 & 0.7512 & 0.1078 & 0.0174 & 0.8024 & 174.2300 & 140\\\\\n",
       "\t 1.245986e-03 & 0.7179619 & 0.1236541 & 0.9466444 & 0.96 & 0.11 & 0.7690 & 0.1078 & 0.0166 & 0.8060 & 175.4496 & 144\\\\\n",
       "\t 4.946365e-04 & 0.7318266 & 0.1168777 & 0.9510122 & 0.95 & 0.10 & 0.7982 & 0.1114 & 0.0156 & 0.8036 & 176.3504 & 148\\\\\n",
       "\t 5.048826e-03 & 0.7394786 & 0.1163535 & 0.9493956 & 0.95 & 0.10 & 0.8120 & 0.1162 & 0.0152 & 0.8028 & 177.7232 & 152\\\\\n",
       "\t 4.048328e-03 & 0.7459982 & 0.1089330 & 0.9455595 & 0.95 & 0.09 & 0.8178 & 0.1148 & 0.0166 & 0.8096 & 179.4828 & 156\\\\\n",
       "\t 2.262666e-03 & 0.7578870 & 0.1010609 & 0.9486134 & 0.94 & 0.08 & 0.8390 & 0.1148 & 0.0148 & 0.8098 & 180.9240 & 160\\\\\n",
       "\\end{tabular}\n"
      ],
      "text/markdown": [
       "\n",
       "A data.frame: 16 × 12\n",
       "\n",
       "| m1 &lt;dbl&gt; | t1 &lt;dbl&gt; | m2 &lt;dbl&gt; | t2 &lt;dbl&gt; | lambda &lt;dbl&gt; | gamma &lt;dbl&gt; | PET0 &lt;dbl&gt; | PET1 &lt;dbl&gt; | alpha &lt;dbl&gt; | power &lt;dbl&gt; | EN &lt;dbl&gt; | interim_n &lt;dbl&gt; |\n",
       "|---|---|---|---|---|---|---|---|---|---|---|---|\n",
       "| 0.000000e+00 | 0.0000000 | 0.0000000 | 0.0000000 | 0.00 | 0.00 | 0.0000 | 0.0000 | 0.0000 | 0.0000 |       NA | 100 |\n",
       "| 0.000000e+00 | 0.0000000 | 0.0000000 | 0.0000000 | 0.00 | 0.00 | 0.0000 | 0.0000 | 0.0000 | 0.0000 |       NA | 104 |\n",
       "| 0.000000e+00 | 0.0000000 | 0.0000000 | 0.0000000 | 0.00 | 0.00 | 0.0000 | 0.0000 | 0.0000 | 0.0000 |       NA | 108 |\n",
       "| 0.000000e+00 | 0.0000000 | 0.0000000 | 0.0000000 | 0.00 | 0.00 | 0.0000 | 0.0000 | 0.0000 | 0.0000 |       NA | 112 |\n",
       "| 0.000000e+00 | 0.0000000 | 0.0000000 | 0.0000000 | 0.00 | 0.00 | 0.0000 | 0.0000 | 0.0000 | 0.0000 |       NA | 116 |\n",
       "| 0.000000e+00 | 0.0000000 | 0.0000000 | 0.0000000 | 0.00 | 0.00 | 0.0000 | 0.0000 | 0.0000 | 0.0000 |       NA | 120 |\n",
       "| 0.000000e+00 | 0.0000000 | 0.0000000 | 0.0000000 | 0.00 | 0.00 | 0.0000 | 0.0000 | 0.0000 | 0.0000 |       NA | 124 |\n",
       "| 1.791735e-03 | 0.6493946 | 0.1515372 | 0.9196343 | 0.99 | 0.16 | 0.6330 | 0.0900 | 0.0250 | 0.8030 | 173.9720 | 128 |\n",
       "| 7.138312e-03 | 0.6602750 | 0.1510168 | 0.9184726 | 0.99 | 0.16 | 0.6582 | 0.0974 | 0.0250 | 0.8006 | 174.3096 | 132 |\n",
       "| 4.753379e-05 | 0.6938158 | 0.1358946 | 0.9436417 | 0.97 | 0.13 | 0.7276 | 0.1008 | 0.0174 | 0.8038 | 173.4912 | 136 |\n",
       "| 6.010270e-03 | 0.7039221 | 0.1354843 | 0.9424240 | 0.97 | 0.13 | 0.7512 | 0.1078 | 0.0174 | 0.8024 | 174.2300 | 140 |\n",
       "| 1.245986e-03 | 0.7179619 | 0.1236541 | 0.9466444 | 0.96 | 0.11 | 0.7690 | 0.1078 | 0.0166 | 0.8060 | 175.4496 | 144 |\n",
       "| 4.946365e-04 | 0.7318266 | 0.1168777 | 0.9510122 | 0.95 | 0.10 | 0.7982 | 0.1114 | 0.0156 | 0.8036 | 176.3504 | 148 |\n",
       "| 5.048826e-03 | 0.7394786 | 0.1163535 | 0.9493956 | 0.95 | 0.10 | 0.8120 | 0.1162 | 0.0152 | 0.8028 | 177.7232 | 152 |\n",
       "| 4.048328e-03 | 0.7459982 | 0.1089330 | 0.9455595 | 0.95 | 0.09 | 0.8178 | 0.1148 | 0.0166 | 0.8096 | 179.4828 | 156 |\n",
       "| 2.262666e-03 | 0.7578870 | 0.1010609 | 0.9486134 | 0.94 | 0.08 | 0.8390 | 0.1148 | 0.0148 | 0.8098 | 180.9240 | 160 |\n",
       "\n"
      ],
      "text/plain": [
       "   m1           t1        m2        t2        lambda gamma PET0   PET1   alpha \n",
       "1  0.000000e+00 0.0000000 0.0000000 0.0000000 0.00   0.00  0.0000 0.0000 0.0000\n",
       "2  0.000000e+00 0.0000000 0.0000000 0.0000000 0.00   0.00  0.0000 0.0000 0.0000\n",
       "3  0.000000e+00 0.0000000 0.0000000 0.0000000 0.00   0.00  0.0000 0.0000 0.0000\n",
       "4  0.000000e+00 0.0000000 0.0000000 0.0000000 0.00   0.00  0.0000 0.0000 0.0000\n",
       "5  0.000000e+00 0.0000000 0.0000000 0.0000000 0.00   0.00  0.0000 0.0000 0.0000\n",
       "6  0.000000e+00 0.0000000 0.0000000 0.0000000 0.00   0.00  0.0000 0.0000 0.0000\n",
       "7  0.000000e+00 0.0000000 0.0000000 0.0000000 0.00   0.00  0.0000 0.0000 0.0000\n",
       "8  1.791735e-03 0.6493946 0.1515372 0.9196343 0.99   0.16  0.6330 0.0900 0.0250\n",
       "9  7.138312e-03 0.6602750 0.1510168 0.9184726 0.99   0.16  0.6582 0.0974 0.0250\n",
       "10 4.753379e-05 0.6938158 0.1358946 0.9436417 0.97   0.13  0.7276 0.1008 0.0174\n",
       "11 6.010270e-03 0.7039221 0.1354843 0.9424240 0.97   0.13  0.7512 0.1078 0.0174\n",
       "12 1.245986e-03 0.7179619 0.1236541 0.9466444 0.96   0.11  0.7690 0.1078 0.0166\n",
       "13 4.946365e-04 0.7318266 0.1168777 0.9510122 0.95   0.10  0.7982 0.1114 0.0156\n",
       "14 5.048826e-03 0.7394786 0.1163535 0.9493956 0.95   0.10  0.8120 0.1162 0.0152\n",
       "15 4.048328e-03 0.7459982 0.1089330 0.9455595 0.95   0.09  0.8178 0.1148 0.0166\n",
       "16 2.262666e-03 0.7578870 0.1010609 0.9486134 0.94   0.08  0.8390 0.1148 0.0148\n",
       "   power  EN       interim_n\n",
       "1  0.0000       NA 100      \n",
       "2  0.0000       NA 104      \n",
       "3  0.0000       NA 108      \n",
       "4  0.0000       NA 112      \n",
       "5  0.0000       NA 116      \n",
       "6  0.0000       NA 120      \n",
       "7  0.0000       NA 124      \n",
       "8  0.8030 173.9720 128      \n",
       "9  0.8006 174.3096 132      \n",
       "10 0.8038 173.4912 136      \n",
       "11 0.8024 174.2300 140      \n",
       "12 0.8060 175.4496 144      \n",
       "13 0.8036 176.3504 148      \n",
       "14 0.8028 177.7232 152      \n",
       "15 0.8096 179.4828 156      \n",
       "16 0.8098 180.9240 160      "
      ]
     },
     "metadata": {},
     "output_type": "display_data"
    }
   ],
   "source": [
    "all_result"
   ]
  },
  {
   "cell_type": "code",
   "execution_count": null,
   "metadata": {
    "vscode": {
     "languageId": "r"
    }
   },
   "outputs": [],
   "source": []
  }
 ],
 "metadata": {
  "kernelspec": {
   "display_name": "R",
   "language": "R",
   "name": "ir"
  },
  "language_info": {
   "codemirror_mode": "r",
   "file_extension": ".r",
   "mimetype": "text/x-r-source",
   "name": "R",
   "pygments_lexer": "r",
   "version": "4.4.1"
  }
 },
 "nbformat": 4,
 "nbformat_minor": 2
}
